{
 "cells": [
  {
   "cell_type": "markdown",
   "metadata": {},
   "source": [
    "# Day 05.10.2021 Simulation"
   ]
  },
  {
   "cell_type": "code",
   "execution_count": 1,
   "metadata": {},
   "outputs": [],
   "source": [
    "import pandas as pd\n",
    "import numpy as np\n",
    "from data_tools.simulation_data import SimulationDataCreator\n",
    "from data_tools.simulation_run import RunSimulation\n",
    "pd.set_option(\"display.max_columns\", None)\n",
    "pd.set_option(\"display.max_colwidth\", 40)\n",
    "pd.set_option(\"display.precision\", 5)"
   ]
  },
  {
   "cell_type": "code",
   "execution_count": 2,
   "metadata": {},
   "outputs": [
    {
     "name": "stdout",
     "output_type": "stream",
     "text": [
      "the value counts of column invoker is:\n",
      "\n",
      "FCI_bid_0      488827\n",
      "FCI_offer_0    487353\n",
      "IBI_offer_0    230862\n",
      "IBI_bid_0      230862\n",
      "TA1_offer_0    182397\n",
      "TA1_bid_0      182397\n",
      "EBS_offer_0     78644\n",
      "EBS_bid_0       78279\n",
      "dtype: int64\n",
      "1153855, 1153855\n",
      "the value counts of column invoker is:\n",
      "\n",
      "CITIQ_BARAK_offer_0       39726\n",
      "CITIQ_BARAK_bid_0         39618\n",
      "CREDITQ_BARAK_offer_0     26229\n",
      "CREDITQ_BARAK_bid_0       26226\n",
      "GOLDMANQ_BARAK_bid_0      12849\n",
      "GOLDMANQ_BARAK_offer_0    12813\n",
      "UBSQ_BARAK_offer_0         3964\n",
      "UBSQ_BARAK_bid_0           3956\n",
      "dtype: int64\n",
      "164517, 164517\n",
      "the value counts of column invoker is:\n",
      "\n",
      "TRADAIR_LP12_bid_0      169202\n",
      "TRADAIR_LP12_offer_0    169202\n",
      "TRADAIR_LP6_bid_0       117315\n",
      "TRADAIR_LP6_offer_0     117315\n",
      "TRADAIR_LP15_bid_0      102903\n",
      "TRADAIR_LP15_offer_0    102903\n",
      "TRADAIR_LP1_bid_0        96859\n",
      "TRADAIR_LP1_offer_0      96859\n",
      "TRADAIR_LP13_offer_0     85380\n",
      "TRADAIR_LP13_bid_0       85380\n",
      "TRADAIR_LP5_bid_0        84825\n",
      "TRADAIR_LP5_offer_0      84825\n",
      "TRADAIR_LP3_offer_0      84386\n",
      "TRADAIR_LP3_bid_0        84386\n",
      "TRADAIR_LP4_offer_0      78845\n",
      "TRADAIR_LP4_bid_0        78845\n",
      "TRADAIR_LP7_bid_0        69020\n",
      "TRADAIR_LP7_offer_0      69020\n",
      "TRADAIR_LP14_bid_0       66295\n",
      "TRADAIR_LP14_offer_0     66295\n",
      "TRADAIR_LP2_offer_0      59490\n",
      "TRADAIR_LP2_bid_0        59490\n",
      "dtype: int64\n",
      "877690, 877690\n"
     ]
    }
   ],
   "source": [
    "# upload, clean and prepare the data\n",
    "simulation_data_creator = SimulationDataCreator(\"/Users/tom/dev/bbp-research/configuration_files/simulation_data_creator_05_10.json\")\n",
    "# upload the data\n",
    "data_dict = simulation_data_creator.upload_data([\"market_data\", \"market_data_1\", \"view_market_data\"])\n",
    "# convert invoker column\n",
    "data_dict = simulation_data_creator.convert_invokers(data_dict, [\"market_data\", \"market_data_1\", \"view_market_data\"])\n",
    "# merge the data\n",
    "merged_data = simulation_data_creator.merge_markets(data_dict[\"market_data\"][\"data\"], data_dict[\"market_data_1\"][\"data\"], \"timestamp\", True)\n",
    "merged_data = simulation_data_creator.merge_markets(merged_data, data_dict[\"view_market_data\"][\"data\"], \"timestamp\", True)\n",
    "# # add time\n",
    "merged_data = simulation_data_creator.add_time(merged_data, \"timestamp\")\n",
    "# data_dict = simulation_data_creator.add_times(data_dict, [\"market_data\", \"market_data_1\", \"view_market_data\"])\n",
    "# cut hours in between 10:00 to 19:00\n",
    "merged_data = simulation_data_creator.keep_data_between_hours(merged_data, 9, 19, \"hour\")"
   ]
  },
  {
   "cell_type": "markdown",
   "metadata": {},
   "source": [
    "## arena 1 simulation 1\n",
    "- entering position condition: spread_tag_inc(TA1_offer, IBI_bid) < 0\n",
    "- exiting position condition: current_best_bid >= best_offer_at_signal + 0.00005 or current_best_bid < best_bid_at_signal - 0.00005\n",
    "- hit_brokers = ['FCI', 'IBI', 'TA1', 'IDB']\n",
    "- view_brokers = none\n",
    "- positon_fee = 0.00001\n",
    "- max time in position = false"
   ]
  },
  {
   "cell_type": "code",
   "execution_count": 4,
   "metadata": {},
   "outputs": [],
   "source": [
    "arena_1_sim_1 = RunSimulation(simulation_name = \"arena 1 simulation 1\", \n",
    "                              hit_brokers = ['FCI', 'IBI', 'TA1'],\n",
    "                              view_brokers = [],\n",
    "                              enter_conditions = \"spread_tag_inc(TA1_offer, IBI_bid) < 0\",\n",
    "                              exit_conditions = \"current_best_bid >= best_offer_at_signal + 0.00005 or current_best_bid < best_bid_at_signal - 0.00005\",\n",
    "                              positon_fee = 0.00001, \n",
    "                              max_time_in_position = False)\n",
    "# initialize summary data frame                   \n",
    "arena_1_sim_1.initialize_summary_df(\"increase\")\n",
    "# prepaer data for simulation\n",
    "arena_1_sim_1_df = merged_data.copy()\n",
    "sim_df_col_list, sim_df_np, sim_number_of_rows = arena_1_sim_1.prepaer_data_for_simulation(arena_1_sim_1_df)"
   ]
  },
  {
   "cell_type": "code",
   "execution_count": 7,
   "metadata": {},
   "outputs": [],
   "source": [
    "arena_1_sim_1.initialize_summary_df(\"increase\")\n",
    "for i in range(sim_number_of_rows):\n",
    "    # current market row\n",
    "    current_market_data = sim_df_np[i]\n",
    "    # check if entering condition holds\n",
    "    if current_market_data[sim_df_col_list.index(\"IBI_bid_0\")]:\n",
    "        spread_tag_inc = current_market_data[sim_df_col_list.index(\"TA1_offer_0_rate\")] - current_market_data[sim_df_col_list.index(\"IBI_bid_0_rate\")]\n",
    "        if spread_tag_inc < 0.0:\n",
    "            best_offer_value, best_offer_broker, best_bid_value, best_bid_broker = arena_1_sim_1.find_bests_for_hit_brokers(current_market_data)\n",
    "            temp_index = i + 1\n",
    "            upper_limit_value = best_offer_value + 0.00005\n",
    "            lower_limit_value = best_bid_value - 0.00005\n",
    "            while temp_index < sim_number_of_rows and sim_df_np[temp_index][sim_df_col_list.index(\"best_bid_hit_rate\")] < upper_limit_value and sim_df_np[temp_index][sim_df_col_list.index(\"best_bid_hit_rate\")] > lower_limit_value:\n",
    "                temp_index += 1\n",
    "            if temp_index >= sim_number_of_rows:\n",
    "                break\n",
    "            else:\n",
    "                arena_1_sim_1.documnet_position(current_market_data, sim_df_np[temp_index], spread_tag_inc)"
   ]
  },
  {
   "cell_type": "code",
   "execution_count": 6,
   "metadata": {},
   "outputs": [
    {
     "name": "stdout",
     "output_type": "stream",
     "text": [
      "\n",
      "1575\n",
      "count      1575.00000\n",
      "mean      24185.84952\n",
      "std       29043.00590\n",
      "min           1.00000\n",
      "25%        4052.00000\n",
      "50%       11720.00000\n",
      "75%       34413.50000\n",
      "max      208476.00000\n",
      "dtype: float64\n",
      "0.040810000000000006\n",
      "0.5314285714285715\n"
     ]
    }
   ],
   "source": [
    "df_to_present = arena_1_sim_1.create_simulation_summary()\n",
    "df_to_present\n",
    "print(f\"\")\n",
    "print(df_to_present.shape[0])\n",
    "print((df_to_present[\"timestamp_at_exiting\"] - df_to_present[\"timestamp_at_entering\"]).describe())\n",
    "print(df_to_present[\"position_profit\"].sum())\n",
    "\n",
    "print((df_to_present['position_profit'] > 0).sum()/ df_to_present.shape[0])"
   ]
  },
  {
   "cell_type": "code",
   "execution_count": 8,
   "metadata": {},
   "outputs": [
    {
     "name": "stdout",
     "output_type": "stream",
     "text": [
      "\n",
      "1575\n",
      "count      1575.00000\n",
      "mean      13692.01143\n",
      "std       22349.99638\n",
      "min           1.00000\n",
      "25%         254.00000\n",
      "50%        4035.00000\n",
      "75%       14018.00000\n",
      "max      158944.00000\n",
      "dtype: float64\n",
      "0.037570000000000006\n",
      "0.6952380952380952\n"
     ]
    }
   ],
   "source": [
    "df_to_present = arena_1_sim_1.create_simulation_summary()\n",
    "df_to_present\n",
    "print(f\"\")\n",
    "print(df_to_present.shape[0])\n",
    "print((df_to_present[\"timestamp_at_exiting\"] - df_to_present[\"timestamp_at_entering\"]).describe())\n",
    "print(df_to_present[\"position_profit\"].sum())\n",
    "print((df_to_present['position_profit'] > 0).sum()/ df_to_present.shape[0])"
   ]
  },
  {
   "cell_type": "code",
   "execution_count": null,
   "metadata": {},
   "outputs": [],
   "source": [
    "# clean bad deals - insure no -1,0, what so ever deals\n",
    "df_to_present[\"position_profit\"].describe()"
   ]
  },
  {
   "cell_type": "code",
   "execution_count": null,
   "metadata": {},
   "outputs": [],
   "source": [
    "# +-0.00005 to limits\n",
    "df_to_present[\"position_profit\"].sum()"
   ]
  },
  {
   "cell_type": "code",
   "execution_count": null,
   "metadata": {},
   "outputs": [],
   "source": [
    "df_to_present[\"diff\"] = df_to_present[\"timestamp_at_exiting\"] - df_to_present[\"timestamp_at_entering\"]\n",
    "df_to_present[\"diff\"].describe()"
   ]
  },
  {
   "cell_type": "markdown",
   "metadata": {},
   "source": [
    "## arena 2 simulation 1\n",
    "- entering position condition: spread_tag_inc(TA1_offer, IBI_bid) < 0\n",
    "- exiting position condition: current_best_bid >= best_offer_at_signal + 0.00005 or current_best_bid < best_bid_at_signal - 0.00005\n",
    "- hit_brokers = [\"CITIQ_BARAK\", \"CREDITQ_BARAK\", \"UBSQ_BARAK\", \"GOLDMANQ_BARAK\", \"JPQ_BARAK\"]\n",
    "- view_brokers = [TA1, IBI]\n",
    "- positon_fee = 0.00001\n",
    "- max time in position = false"
   ]
  },
  {
   "cell_type": "code",
   "execution_count": 10,
   "metadata": {},
   "outputs": [],
   "source": [
    "arena_2_sim_1 = RunSimulation(simulation_name = \"arena 2 simulation 1\", \n",
    "                              hit_brokers = [\"CITIQ_BARAK\", \"CREDITQ_BARAK\", \"UBSQ_BARAK\", \"GOLDMANQ_BARAK\"],\n",
    "                              view_brokers = [],\n",
    "                              enter_conditions = \"spread_tag_inc(TA1_offer, IBI_bid) < 0\",\n",
    "                              exit_conditions = \"current_best_bid >= best_offer_at_signal + 0.00005 or current_best_bid < best_bid_at_signal - 0.00005\",\n",
    "                              positon_fee = 0.00001, \n",
    "                              max_time_in_position = False)\n",
    "# initialize summary data frame                   \n",
    "arena_2_sim_1.initialize_summary_df(\"increase\")\n",
    "# prepaer data for simulation\n",
    "arena_2_sim_1_df = merged_data.copy()\n",
    "sim_df_col_list2, sim_df_np2, sim_number_of_rows2 = arena_2_sim_1.prepaer_data_for_simulation(arena_2_sim_1_df)"
   ]
  },
  {
   "cell_type": "code",
   "execution_count": null,
   "metadata": {},
   "outputs": [],
   "source": [
    "arena_2_sim_1.initialize_summary_df(\"increase\")\n",
    "for i in range(sim_number_of_rows2):\n",
    "    # current market row\n",
    "    current_market_data = sim_df_np2[i]\n",
    "    # check if entering condition holds\n",
    "    if current_market_data[sim_df_col_list2.index(\"IBI_bid_0\")]:\n",
    "        spread_tag_inc = current_market_data[sim_df_col_list2.index(\"TA1_offer_0_rate\")] - current_market_data[sim_df_col_list2.index(\"IBI_bid_0_rate\")]\n",
    "        if spread_tag_inc < 0.0:\n",
    "            best_offer_value, best_offer_broker, best_bid_value, best_bid_broker = arena_2_sim_1.find_bests_for_hit_brokers(current_market_data)\n",
    "            temp_index = i + 1\n",
    "            upper_limit_value = best_offer_value + 0.0003\n",
    "            lower_limit_value = best_bid_value - 0.0001\n",
    "            # while temp_index < sim_number_of_rows and (sim_df_np[temp_index][sim_df_col_list.index(\"best_bid_hit_rate\")] >= upper_limit_value or sim_df_np[temp_index][sim_df_col_list.index(\"best_bid_hit_rate\")] < lower_limit_value):\n",
    "            while temp_index < sim_number_of_rows2 and sim_df_np2[temp_index][sim_df_col_list2.index(\"best_bid_hit_rate\")] < upper_limit_value and sim_df_np2[temp_index][sim_df_col_list2.index(\"best_bid_hit_rate\")] > lower_limit_value:\n",
    "                temp_index += 1\n",
    "            if temp_index >= sim_number_of_rows2:\n",
    "                break\n",
    "            else:\n",
    "                arena_2_sim_1.documnet_position(current_market_data, sim_df_np2[temp_index], spread_tag_inc)"
   ]
  },
  {
   "cell_type": "code",
   "execution_count": null,
   "metadata": {},
   "outputs": [],
   "source": [
    "# limits + 0.0003 -0.0001\n",
    "df_to_present = arena_2_sim_1.create_simulation_summary()\n",
    "# df_to_presen\n",
    "\n",
    "print(df_to_present.shape[0])\n",
    "print((df_to_present[\"timestamp_at_exiting\"] - df_to_present[\"timestamp_at_entering\"]).describe())\n",
    "print(df_to_present.shape[0])\n",
    "print(df_to_present[\"position_profit\"].sum())"
   ]
  },
  {
   "cell_type": "code",
   "execution_count": null,
   "metadata": {},
   "outputs": [],
   "source": [
    "# limits + 0.0002 -0.00005\n",
    "df_to_present = arena_2_sim_1.create_simulation_summary()\n",
    "# df_to_presen\n",
    "\n",
    "print(df_to_present.shape[0])\n",
    "print((df_to_present[\"timestamp_at_exiting\"] - df_to_present[\"timestamp_at_entering\"]).describe())\n",
    "print(df_to_present.shape[0])\n",
    "print(df_to_present[\"position_profit\"].sum())"
   ]
  },
  {
   "cell_type": "code",
   "execution_count": null,
   "metadata": {},
   "outputs": [],
   "source": [
    "# limits + 0.0001 -0.00005\n",
    "df_to_present = arena_2_sim_1.create_simulation_summary()\n",
    "# df_to_presen\n",
    "\n",
    "print(df_to_present.shape[0])\n",
    "print((df_to_present[\"timestamp_at_exiting\"] - df_to_present[\"timestamp_at_entering\"]).describe())\n",
    "print(df_to_present.shape[0])\n",
    "print(df_to_present[\"position_profit\"].sum())"
   ]
  },
  {
   "cell_type": "code",
   "execution_count": null,
   "metadata": {},
   "outputs": [],
   "source": [
    "df_to_present[\"diff\"] = df_to_present[\"timestamp_at_exiting\"] - df_to_present[\"timestamp_at_entering\"]\n",
    "df_to_present[\"diff\"].describe()"
   ]
  },
  {
   "cell_type": "code",
   "execution_count": null,
   "metadata": {},
   "outputs": [],
   "source": [
    "df_to_present[\"position_profit\"].sum()"
   ]
  },
  {
   "cell_type": "markdown",
   "metadata": {},
   "source": [
    "## arena 3 simulation 1\n",
    "- entering position condition: spread_tag_inc(TA1_offer, IBI_bid) < 0\n",
    "- exiting position condition: current_best_bid >= best_offer_at_signal + 0.00005 or current_best_bid < best_bid_at_signal - 0.00005\n",
    "- hit_brokers = [\"FCI\", \"IBI\", \"TA1\", \"IDB\", \"CITIQ_BARAK\", \"CREDITQ_BARAK\",\"UBSQ_BARAK\", \"GOLDMANQ_BARAK\", \"JPQ_BARAK\"]\n",
    "- view_brokers = None\n",
    "- positon_fee = 0.00001\n",
    "- max time in position = false"
   ]
  },
  {
   "cell_type": "code",
   "execution_count": null,
   "metadata": {},
   "outputs": [],
   "source": [
    "arena_3_sim_1 = RunSimulation(simulation_name = \"arena 3 simulation 1\", \n",
    "                              hit_brokers = [\"FCI\", \"IBI\", \"TA1\", \"IDB\", \"CITIQ_BARAK\", \"CREDITQ_BARAK\", \"UBSQ_BARAK\", \"GOLDMANQ_BARAK\", \"JPQ_BARAK\"],\n",
    "                              view_brokers = [],\n",
    "                              enter_conditions = \"spread_tag_inc(TA1_offer, IBI_bid) < 0\",\n",
    "                              exit_conditions = \"current_best_bid >= best_offer_at_signal + 0.00005 or current_best_bid < best_bid_at_signal - 0.00005\",\n",
    "                              positon_fee = 0.00001, \n",
    "                              max_time_in_position = False)\n",
    "# initialize summary data frame                   \n",
    "arena_3_sim_1.initialize_summary_df(\"increase\")\n",
    "# prepaer data for simulation\n",
    "arena_3_sim_1_df = merged_data.copy()\n",
    "sim_df_col_list3, sim_df_np3, sim_number_of_rows3 = arena_3_sim_1.prepaer_data_for_simulation(arena_3_sim_1_df)"
   ]
  },
  {
   "cell_type": "code",
   "execution_count": null,
   "metadata": {},
   "outputs": [],
   "source": [
    "for i in range(sim_number_of_rows3):\n",
    "    # current market row\n",
    "    current_market_data = sim_df_np3[i]\n",
    "    # check if entering condition holds\n",
    "    if current_market_data[sim_df_col_list3.index(\"IBI_bid_0\")]:\n",
    "        spread_tag_inc = current_market_data[sim_df_col_list3.index(\"TA1_offer_0_rate\")] - current_market_data[sim_df_col_list3.index(\"IBI_bid_0_rate\")]\n",
    "        if spread_tag_inc < 0.0:\n",
    "            best_offer_value, best_offer_broker, best_bid_value, best_bid_broker = arena_3_sim_1.find_bests_for_hit_brokers(current_market_data)\n",
    "            temp_index = i + 1\n",
    "            upper_limit_value = best_offer_value + 0.0001\n",
    "            lower_limit_value = best_bid_value - 0.0001\n",
    "            # while temp_index < sim_number_of_rows and (sim_df_np[temp_index][sim_df_col_list.index(\"best_bid_hit_rate\")] >= upper_limit_value or sim_df_np[temp_index][sim_df_col_list.index(\"best_bid_hit_rate\")] < lower_limit_value):\n",
    "            while temp_index < sim_number_of_rows3 and sim_df_np3[temp_index][sim_df_col_list3.index(\"best_bid_hit_rate\")] < upper_limit_value and sim_df_np3[temp_index][sim_df_col_list3.index(\"best_bid_hit_rate\")] > lower_limit_value:\n",
    "                temp_index += 1\n",
    "            if temp_index >= sim_number_of_rows3:\n",
    "                break\n",
    "            else:\n",
    "                arena_3_sim_1.documnet_position(current_market_data, sim_df_np3[temp_index], spread_tag_inc)"
   ]
  },
  {
   "cell_type": "code",
   "execution_count": null,
   "metadata": {},
   "outputs": [],
   "source": [
    "df_to_present = arena_3_sim_1.create_simulation_summary()\n",
    "df_to_present"
   ]
  },
  {
   "cell_type": "code",
   "execution_count": null,
   "metadata": {},
   "outputs": [],
   "source": [
    "df_to_present[\"diff\"] = df_to_present[\"timestamp_at_exiting\"] - df_to_present[\"timestamp_at_entering\"]\n",
    "df_to_present[\"diff\"].describe()"
   ]
  },
  {
   "cell_type": "code",
   "execution_count": null,
   "metadata": {},
   "outputs": [],
   "source": [
    "df_to_present[\"position_profit\"].sum()"
   ]
  },
  {
   "cell_type": "code",
   "execution_count": null,
   "metadata": {},
   "outputs": [],
   "source": [
    "df_to_present.shape[0]"
   ]
  },
  {
   "cell_type": "markdown",
   "metadata": {},
   "source": [
    "## arena 1 simulation 2\n",
    "- entering position condition: spread_tag_inc(TA1_offer, IBI_bid) < 0\n",
    "- exiting position condition: current_best_bid >= best_offer_at_signal + 0.00005 or current_best_bid < best_bid_at_signal - 0.00005 AND 3 horese in the offer direction\n",
    "- hit_brokers = ['FCI', 'IBI', 'TA1', 'IDB']\n",
    "- view_brokers = LP's\n",
    "- positon_fee = 0.00001\n",
    "- max time in position = false"
   ]
  },
  {
   "cell_type": "code",
   "execution_count": null,
   "metadata": {},
   "outputs": [],
   "source": []
  },
  {
   "cell_type": "markdown",
   "metadata": {},
   "source": [
    "## arena 2 simulation 2\n",
    "- entering position condition: spread_tag_inc(TA1_offer, IBI_bid) < 0\n",
    "- exiting position condition: current_best_bid >= best_offer_at_signal + 0.00005 or current_best_bid < best_bid_at_signal - 0.00005 AND 3 horese in the offer direction\n",
    "- hit_brokers = [\"CITIQ_BARAK\", \"CREDITQ_BARAK\", \"UBSQ_BARAK\", \"GOLDMANQ_BARAK\", \"JPQ_BARAK\"]\n",
    "- view_brokers = [TA1, IBI] + LP's\n",
    "- positon_fee = 0.00001\n",
    "- max time in position = false"
   ]
  }
 ],
 "metadata": {
  "interpreter": {
   "hash": "3931689ef1d9bb67b3fd472ad065720afe6f3aff73ddb11d031504062ced4cfb"
  },
  "kernelspec": {
   "display_name": "Python 3.9.9 64-bit ('venv': venv)",
   "language": "python",
   "name": "python3"
  },
  "language_info": {
   "codemirror_mode": {
    "name": "ipython",
    "version": 3
   },
   "file_extension": ".py",
   "mimetype": "text/x-python",
   "name": "python",
   "nbconvert_exporter": "python",
   "pygments_lexer": "ipython3",
   "version": "3.9.9"
  },
  "orig_nbformat": 4
 },
 "nbformat": 4,
 "nbformat_minor": 2
}
